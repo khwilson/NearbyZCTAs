{
 "cells": [
  {
   "cell_type": "code",
   "execution_count": 1,
   "metadata": {},
   "outputs": [],
   "source": [
    "import geopandas as gpd\n",
    "from matplotlib import pyplot as plt\n",
    "\n",
    "%matplotlib inline"
   ]
  },
  {
   "cell_type": "code",
   "execution_count": 2,
   "metadata": {},
   "outputs": [],
   "source": [
    "zcta = gpd.read_file('us-maps/geojson/zcta5.geo.json')"
   ]
  },
  {
   "cell_type": "code",
   "execution_count": 3,
   "metadata": {},
   "outputs": [
    {
     "data": {
      "text/plain": [
       "33120"
      ]
     },
     "execution_count": 3,
     "metadata": {},
     "output_type": "execute_result"
    }
   ],
   "source": [
    "len(zcta)"
   ]
  },
  {
   "cell_type": "code",
   "execution_count": 5,
   "metadata": {},
   "outputs": [],
   "source": [
    "buffered_zcta = zcta.buffer(0.01)\n",
    "buffered_zcta.to_file('buffered_zcta.geojson')"
   ]
  },
  {
   "cell_type": "code",
   "execution_count": 9,
   "metadata": {},
   "outputs": [],
   "source": [
    "buffered_zcta.name = 'geometry'\n",
    "bzdf = gpd.GeoDataFrame({'row_number': buffered_zcta.index.values, 'geometry': buffered_zcta.values}, geometry='geometry')"
   ]
  },
  {
   "cell_type": "code",
   "execution_count": 25,
   "metadata": {},
   "outputs": [],
   "source": [
    "joined = gpd.sjoin(bzdf, bzdf)"
   ]
  },
  {
   "cell_type": "code",
   "execution_count": 32,
   "metadata": {},
   "outputs": [
    {
     "data": {
      "text/html": [
       "<div>\n",
       "<style scoped>\n",
       "    .dataframe tbody tr th:only-of-type {\n",
       "        vertical-align: middle;\n",
       "    }\n",
       "\n",
       "    .dataframe tbody tr th {\n",
       "        vertical-align: top;\n",
       "    }\n",
       "\n",
       "    .dataframe thead th {\n",
       "        text-align: right;\n",
       "    }\n",
       "</style>\n",
       "<table border=\"1\" class=\"dataframe\">\n",
       "  <thead>\n",
       "    <tr style=\"text-align: right;\">\n",
       "      <th></th>\n",
       "      <th>row_number_left</th>\n",
       "      <th>geometry</th>\n",
       "      <th>index_right</th>\n",
       "      <th>row_number_right</th>\n",
       "    </tr>\n",
       "  </thead>\n",
       "  <tbody>\n",
       "    <tr>\n",
       "      <th>0</th>\n",
       "      <td>0</td>\n",
       "      <td>POLYGON ((-68.31481906907683 46.58354519474567...</td>\n",
       "      <td>233</td>\n",
       "      <td>233</td>\n",
       "    </tr>\n",
       "    <tr>\n",
       "      <th>22</th>\n",
       "      <td>22</td>\n",
       "      <td>POLYGON ((-68.78231725311984 46.40049062415828...</td>\n",
       "      <td>233</td>\n",
       "      <td>233</td>\n",
       "    </tr>\n",
       "    <tr>\n",
       "      <th>23</th>\n",
       "      <td>23</td>\n",
       "      <td>(POLYGON ((-68.39788870222719 46.1343965888343...</td>\n",
       "      <td>233</td>\n",
       "      <td>233</td>\n",
       "    </tr>\n",
       "    <tr>\n",
       "      <th>25</th>\n",
       "      <td>25</td>\n",
       "      <td>(POLYGON ((-68.57184914710952 46.7493557934336...</td>\n",
       "      <td>233</td>\n",
       "      <td>233</td>\n",
       "    </tr>\n",
       "    <tr>\n",
       "      <th>40</th>\n",
       "      <td>40</td>\n",
       "      <td>(POLYGON ((-69.4319358085874 45.70179838285605...</td>\n",
       "      <td>233</td>\n",
       "      <td>233</td>\n",
       "    </tr>\n",
       "  </tbody>\n",
       "</table>\n",
       "</div>"
      ],
      "text/plain": [
       "    row_number_left                                           geometry  \\\n",
       "0                 0  POLYGON ((-68.31481906907683 46.58354519474567...   \n",
       "22               22  POLYGON ((-68.78231725311984 46.40049062415828...   \n",
       "23               23  (POLYGON ((-68.39788870222719 46.1343965888343...   \n",
       "25               25  (POLYGON ((-68.57184914710952 46.7493557934336...   \n",
       "40               40  (POLYGON ((-69.4319358085874 45.70179838285605...   \n",
       "\n",
       "    index_right  row_number_right  \n",
       "0           233               233  \n",
       "22          233               233  \n",
       "23          233               233  \n",
       "25          233               233  \n",
       "40          233               233  "
      ]
     },
     "execution_count": 32,
     "metadata": {},
     "output_type": "execute_result"
    }
   ],
   "source": [
    "joined.head()"
   ]
  },
  {
   "cell_type": "code",
   "execution_count": 41,
   "metadata": {},
   "outputs": [
    {
     "data": {
      "text/plain": [
       "<matplotlib.axes._subplots.AxesSubplot at 0x134495c88>"
      ]
     },
     "execution_count": 41,
     "metadata": {},
     "output_type": "execute_result"
    },
    {
     "data": {
      "image/png": "[encoded data removed]",
      "text/plain": [
       "<Figure size 432x288 with 1 Axes>"
      ]
     },
     "metadata": {
      "needs_background": "light"
     },
     "output_type": "display_data"
    }
   ],
   "source": [
    "fig, ax = plt.subplots()\n",
    "\n",
    "joined[joined.row_number_right == 233].plot('row_number_left', ax=ax)\n",
    "joined[(joined.row_number_left == 233) & (joined.row_number_right == 233)].plot(ax=ax, color='red')"
   ]
  },
  {
   "cell_type": "code",
   "execution_count": 42,
   "metadata": {},
   "outputs": [
    {
     "data": {
      "text/plain": [
       "8"
      ]
     },
     "execution_count": 42,
     "metadata": {},
     "output_type": "execute_result"
    }
   ],
   "source": [
    "(joined.row_number_right == 233).sum()"
   ]
  },
  {
   "cell_type": "code",
   "execution_count": 48,
   "metadata": {},
   "outputs": [
    {
     "data": {
      "text/plain": [
       "17266    48\n",
       "841      42\n",
       "844      42\n",
       "555      42\n",
       "869      42\n",
       "847      42\n",
       "1041     41\n",
       "1047     41\n",
       "17230    41\n",
       "842      40\n",
       "846      40\n",
       "457      40\n",
       "848      40\n",
       "1046     40\n",
       "17231    39\n",
       "843      39\n",
       "1295     38\n",
       "1293     38\n",
       "1292     38\n",
       "1299     38\n",
       "1294     37\n",
       "1291     37\n",
       "17233    37\n",
       "1298     36\n",
       "1300     36\n",
       "1204     35\n",
       "645      35\n",
       "1211     35\n",
       "1207     35\n",
       "845      35\n",
       "         ..\n",
       "19993     1\n",
       "20135     1\n",
       "20121     1\n",
       "20066     1\n",
       "20152     1\n",
       "19995     1\n",
       "20174     1\n",
       "30254     1\n",
       "19699     1\n",
       "19975     1\n",
       "19983     1\n",
       "20093     1\n",
       "20080     1\n",
       "20045     1\n",
       "20052     1\n",
       "20126     1\n",
       "110       1\n",
       "20118     1\n",
       "19990     1\n",
       "20116     1\n",
       "20076     1\n",
       "28980     1\n",
       "20157     1\n",
       "20047     1\n",
       "19991     1\n",
       "20082     1\n",
       "23615     1\n",
       "19165     1\n",
       "252       1\n",
       "20110     1\n",
       "Name: row_number_right, Length: 33120, dtype: int64"
      ]
     },
     "execution_count": 48,
     "metadata": {},
     "output_type": "execute_result"
    }
   ],
   "source": [
    "joined.row_number_right.value_counts()"
   ]
  },
  {
   "cell_type": "code",
   "execution_count": 51,
   "metadata": {},
   "outputs": [
    {
     "data": {
      "text/plain": [
       "<matplotlib.axes._subplots.AxesSubplot at 0x134dbfc88>"
      ]
     },
     "execution_count": 51,
     "metadata": {},
     "output_type": "execute_result"
    },
    {
     "data": {
      "image/png": "[encoded data removed]",
      "text/plain": [
       "<Figure size 432x288 with 1 Axes>"
      ]
     },
     "metadata": {
      "needs_background": "light"
     },
     "output_type": "display_data"
    }
   ],
   "source": [
    "joined[joined.row_number_right == 17266].plot('row_number_left', categorical=True)"
   ]
  },
  {
   "cell_type": "code",
   "execution_count": 72,
   "metadata": {},
   "outputs": [
    {
     "data": {
      "text/plain": [
       "ZCTA5CE10                                                 20024\n",
       "GEOID10                                                   20024\n",
       "CLASSFP10                                                    B5\n",
       "MTFCC10                                                   G6350\n",
       "FUNCSTAT10                                                    S\n",
       "ALAND10                                             6.77028e+06\n",
       "AWATER10                                            2.00332e+06\n",
       "INTPTLAT10                                          +38.8760098\n",
       "INTPTLON10                                         -077.0253225\n",
       "geometry      (POLYGON ((-77.064251 38.888956, -77.064311 38...\n",
       "Name: 17266, dtype: object"
      ]
     },
     "execution_count": 72,
     "metadata": {},
     "output_type": "execute_result"
    }
   ],
   "source": [
    "zcta.loc[17266]"
   ]
  },
  {
   "cell_type": "code",
   "execution_count": 71,
   "metadata": {},
   "outputs": [
    {
     "data": {
      "text/plain": [
       "<matplotlib.axes._subplots.AxesSubplot at 0x131160b70>"
      ]
     },
     "execution_count": 71,
     "metadata": {},
     "output_type": "execute_result"
    },
    {
     "data": {
      "image/png": "[encoded data removed]",
      "text/plain": [
       "<Figure size 432x288 with 1 Axes>"
      ]
     },
     "metadata": {
      "needs_background": "light"
     },
     "output_type": "display_data"
    }
   ],
   "source": [
    "fig, ax = plt.subplots()\n",
    "\n",
    "zcta.loc[joined[(joined.row_number_right == 17266)].row_number_left].plot('ZCTA5CE10', ax=ax, categorical=True)\n",
    "zcta.loc[[17266]].plot(color='red', ax=ax)"
   ]
  },
  {
   "cell_type": "code",
   "execution_count": 78,
   "metadata": {},
   "outputs": [],
   "source": [
    "mapper = dict(zip(zcta.index.values, zcta.ZCTA5CE10.values))"
   ]
  },
  {
   "cell_type": "code",
   "execution_count": 81,
   "metadata": {},
   "outputs": [],
   "source": [
    "joined['zcta_left'] = joined.row_number_left.map(mapper)\n",
    "joined['zcta_right'] = joined.row_number_right.map(mapper)"
   ]
  },
  {
   "cell_type": "code",
   "execution_count": 84,
   "metadata": {},
   "outputs": [],
   "source": [
    "joined[['zcta_left', 'zcta_right']].to_csv('paired_zctas.csv', index=False)"
   ]
  }
 ],
 "metadata": {
  "kernelspec": {
   "display_name": "Python 3",
   "language": "python",
   "name": "python3"
  },
  "language_info": {
   "codemirror_mode": {
    "name": "ipython",
    "version": 3
   },
   "file_extension": ".py",
   "mimetype": "text/x-python",
   "name": "python",
   "nbconvert_exporter": "python",
   "pygments_lexer": "ipython3",
   "version": "3.7.2"
  }
 },
 "nbformat": 4,
 "nbformat_minor": 2
}
